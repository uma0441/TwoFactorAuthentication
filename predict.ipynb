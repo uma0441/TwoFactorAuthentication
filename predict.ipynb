{
 "cells": [
  {
   "cell_type": "code",
   "execution_count": 47,
   "id": "c8f40ee3-8b69-46bf-b0bd-5aeb15c10e59",
   "metadata": {},
   "outputs": [
    {
     "name": "stdout",
     "output_type": "stream",
     "text": [
      "C:\\Users\\S545241\\Desktop\\ecg_img\\ecg-id-database-filter\\Person_02\\rec_19.png\n",
      "[[0.5068874]]\n",
      "Prediction: False\n",
      "wrong person\n"
     ]
    }
   ],
   "source": [
    "import glob\n",
    "import numpy as np\n",
    "from PIL import Image\n",
    "from tensorflow.keras.models import load_model\n",
    "from keras import backend as K\n",
    "\n",
    "records = sorted(glob.glob(r'C:\\Users\\S545241\\Desktop\\ecg_img\\ecg-id-database-filter/Person_*/rec_*.png'))\n",
    "#print(records)\n",
    "model = load_model(r'C:\\Users\\S545241\\Desktop\\ecg_img\\model.h5')\n",
    "w, h = 144, 224\n",
    "\n",
    "def read_image(img):\n",
    "  return np.array(Image.open(img).resize((h, w)))[:,:,0:1] / 255\n",
    "\n",
    "person_1 = read_image(records[30])\n",
    "print(records[30])\n",
    "person_2 = read_image(records[30])\n",
    "#print(person_2)\n",
    "person_3 = read_image(records[10])\n",
    "#print(person_3)\n",
    "person_3_test = read_image(records[3])\n",
    "#print(person_3_test)\n",
    "prob = model.predict([person_1.reshape((1, w, h, 1)), person_2.reshape((1, w, h, 1))])\n",
    "print(prob)\n",
    "pred = (prob>0.6)[0][0]\n",
    "print(\"Prediction:\", pred)\n",
    "if pred:\n",
    "  #print(\"Person verified [confidence: {:.2f}%]\".format(100*prob[0][0]))\n",
    "  print(\"Person Authorized\")\n",
    "else: \n",
    "  #print(\"Wrong person - [confidence: {:.2f}%]\".format(100*(1-prob[0][0])))\n",
    "    print(\"wrong person\")"
   ]
  },
  {
   "cell_type": "code",
   "execution_count": null,
   "id": "1e884efa-c942-426d-a20b-7b8b81d0f73f",
   "metadata": {},
   "outputs": [],
   "source": []
  }
 ],
 "metadata": {
  "kernelspec": {
   "display_name": "Python 3 (ipykernel)",
   "language": "python",
   "name": "python3"
  },
  "language_info": {
   "codemirror_mode": {
    "name": "ipython",
    "version": 3
   },
   "file_extension": ".py",
   "mimetype": "text/x-python",
   "name": "python",
   "nbconvert_exporter": "python",
   "pygments_lexer": "ipython3",
   "version": "3.10.1"
  }
 },
 "nbformat": 4,
 "nbformat_minor": 5
}
